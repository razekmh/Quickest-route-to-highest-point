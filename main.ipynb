{
 "cells": [
  {
   "cell_type": "markdown",
   "metadata": {},
   "source": [
    "<h1>copyright statement</h1>\n",
    "\n",
    "Copyright 2018 Mahmoud Abdelrazek, Ibrahim Alhadidi.<br>\n",
    "Permission is hereby granted, free of charge,<br>\n",
    "to any person obtaining a copy of this software <br>\n",
    "and associated documentation files (the “Software”),<br>\n",
    "to deal in the Software without restriction,<br>\n",
    "including without limitation the rights to use, copy, modify,<br>\n",
    "merge, publish, distribute, sublicense, and/or sell copies of the Software,<br>\n",
    "and to permit persons to whom the Software is furnished to do so,<br>\n",
    "subject to the following conditions:<br>\n",
    "The above copyright notice and this permission notice shall be included<br>\n",
    "in all copies or substantial portions of the Software.<br>\n",
    "THE SOFTWARE IS PROVIDED “AS IS”,<br>\n",
    "WITHOUT WARRANTY OF ANY KIND, EXPRESS OR IMPLIED,<br>\n",
    "INCLUDING BUT NOT LIMITED TO THE WARRANTIES OF MERCHANTABILITY,<br>\n",
    "FITNESS FOR A PARTICULAR PURPOSE AND NONINFRINGEMENT.<br>\n",
    "IN NO EVENT SHALL THE AUTHORS OR COPYRIGHT HOLDERS BE LIABLE FOR ANY CLAIM,<br>\n",
    "DAMAGES OR OTHER LIABILITY, WHETHER IN AN ACTION OF CONTRACT, TORT OR OTHERWISE,<br>\n",
    "ARISING FROM, OUT OF OR IN CONNECTION WITH THE SOFTWARE<br>\n",
    "OR THE USE OR OTHER DEALINGS IN THE SOFTWARE.<br>\n",
    "\n",
    "THIS STATEMENT APPLIES ONLY TO THE CODE IN THIS NOTEBOOK!\n",
    "THE RESOURCES USED (LIBRARIES, FILES, ... ) ARE NOT CREATED NOT OWNED BY US AND THEREFORE THE USE OF THEM FOLLOWS THEIR OWN COPYRIGHT RULES\n",
    "\n",
    "SOME OF THE CODE WAS PROVIDED TO US AS PART OF UCL GEOSPATIAL PROGRAMMING MODULE FOR THE PURPOSE OF COMPLETING THIS ASSIGNMENT "
   ]
  },
  {
   "cell_type": "code",
   "execution_count": null,
   "metadata": {},
   "outputs": [],
   "source": [
    "%matplotlib inline"
   ]
  },
  {
   "cell_type": "markdown",
   "metadata": {},
   "source": [
    "Import the necessary libraries."
   ]
  },
  {
   "cell_type": "code",
   "execution_count": null,
   "metadata": {},
   "outputs": [],
   "source": [
    "import cartopy.crs as ccrs\n",
    "import geopandas as gpd\n",
    "from IPython.display import clear_output, display, Markdown \n",
    "from IPython.core.display import HTML\n",
    "import json\n",
    "import matplotlib.image as mpimg\n",
    "import matplotlib.pyplot as plt\n",
    "from matplotlib import cm\n",
    "import networkx as nx\n",
    "import numpy as np\n",
    "import rasterio\n",
    "from rasterio.transform import xy, rowcol, from_bounds\n",
    "from rasterio import features\n",
    "from rasterio.windows import Window\n",
    "from rtree import index\n",
    "from shapely.geometry import Point, LineString, box\n",
    "import sys\n",
    "import time"
   ]
  },
  {
   "cell_type": "markdown",
   "metadata": {},
   "source": [
    "Defining a function to prompt the user to input the current location.<br> The function also checks the input of the user <br> to ensure it is within the bounds of the area used for calcuations  "
   ]
  },
  {
   "cell_type": "code",
   "execution_count": null,
   "metadata": {},
   "outputs": [],
   "source": [
    "def input_start_point():\n",
    "    while True:\n",
    "        x = input('Please input Easting, value shoud be between 425,000 and 470,000: ')\n",
    "        try:\n",
    "            x = float(x)\n",
    "        except:\n",
    "            print('Please Enter a Number')\n",
    "            continue\n",
    "        if not (425000 <= x <= 470000):\n",
    "            print(\"Please Enter Valid Easting, value shoud be\\\n",
    "                   between 425,000 and 470,000\")\n",
    "            continue\n",
    "        else:\n",
    "            break\n",
    "\n",
    "    while True:\n",
    "        y = input('Please input Northing, value shoud be between 75,000 and 100,000: ')\n",
    "        try:\n",
    "            y = float(y)\n",
    "        except:\n",
    "            print('Please Enter a Number, value shoud be\\\n",
    "                   between 75,000 and 100,000')\n",
    "            continue\n",
    "        if not (75000 <= y <= 100000):\n",
    "            print(\"Please Enter Valid Northing, value shoud be\\\n",
    "                   between 75,000 and 100,000\")\n",
    "            continue\n",
    "        else:\n",
    "            break\n",
    "\n",
    "    return x, y"
   ]
  },
  {
   "cell_type": "markdown",
   "metadata": {},
   "source": [
    "Prompting the user to insert the current location using <br> the function which was deined in the pervious cell <br>\n",
    "Also defining then calculating the bounds based on the maximum buffer distance."
   ]
  },
  {
   "cell_type": "code",
   "execution_count": null,
   "metadata": {},
   "outputs": [],
   "source": [
    "point = input_start_point()\n",
    "point_obj = Point(point)\n",
    "buffer_distance = 5000\n",
    "west_bound, east_bound = point[0]-buffer_distance, point[0]+buffer_distance\n",
    "south_bound, north_bound = point[1]-buffer_distance, point[1]+buffer_distance"
   ]
  },
  {
   "cell_type": "markdown",
   "metadata": {},
   "source": [
    "Load the legend image, start and end points symbols."
   ]
  },
  {
   "cell_type": "code",
   "execution_count": null,
   "metadata": {},
   "outputs": [],
   "source": [
    "# Read Legend Image\n",
    "clear_output()\n",
    "display(HTML('<h3><span style=\"color:blue\"> loading the necessary files ...\\\n",
    "              </span></h3>'))\n",
    "legend_img = mpimg.imread('images/legend.png')\n",
    "geotag_img = mpimg.imread('images/geotag.png')\n",
    "geotag_destination_img = mpimg.imread('images/geotag_destination.png')"
   ]
  },
  {
   "cell_type": "markdown",
   "metadata": {},
   "source": [
    "Loading the ITN file <br>\n",
    "and extracting the road_nodes data"
   ]
  },
  {
   "cell_type": "code",
   "execution_count": null,
   "metadata": {},
   "outputs": [],
   "source": [
    "# Read Network\n",
    "solent_itn_json = 'material/itn/solent_itn.json'\n",
    "with open(solent_itn_json) as f:\n",
    "    solent_itn = json.load(f)\n",
    "\n",
    "roads = solent_itn['road']\n",
    "road_links = solent_itn['roadlinks']\n",
    "road_nodes = solent_itn['roadnodes']"
   ]
  },
  {
   "cell_type": "markdown",
   "metadata": {},
   "source": [
    "Defining a function to create a raster window based on the start point as a central point and the buffer distance."
   ]
  },
  {
   "cell_type": "code",
   "execution_count": null,
   "metadata": {},
   "outputs": [],
   "source": [
    "def create_window(point, raster_layer, buffer_distance=5000):\n",
    "    row_offset, col_offset = raster_layer.index(west_bound, north_bound)\n",
    "    row_opposite, col_opposite = raster_layer.index(east_bound, south_bound)\n",
    "    width = col_opposite - col_offset\n",
    "    height = row_opposite - row_offset\n",
    "    window = Window(col_offset, row_offset, width, height)\n",
    "    return window"
   ]
  },
  {
   "cell_type": "markdown",
   "metadata": {},
   "source": [
    "**Advanced point:** a function to add \"padding\" around the heights raster <br> to accommodate for the remote points within 5km from the edges of the raster."
   ]
  },
  {
   "cell_type": "code",
   "execution_count": null,
   "metadata": {},
   "outputs": [],
   "source": [
    "def fill_array(raster, array, point_obj,\n",
    "               resolution, buffer_distance):\n",
    "\n",
    "    expected_size = int(buffer_distance/raster.transform[0] * 2)\n",
    "\n",
    "    if raster.shape == (expected_size, expected_size):\n",
    "        return array\n",
    "    else:\n",
    "        horizontal_diff = expected_size - array.shape[1]\n",
    "        horizontal_fill = np.empty((array.shape[0], horizontal_diff))\n",
    "\n",
    "        vertical_diff = expected_size - array.shape[0]\n",
    "        vertical_fill = np.empty((vertical_diff, expected_size))\n",
    "\n",
    "    bounds = raster.bounds\n",
    "\n",
    "    if point_obj.x - bounds.left < buffer_distance:\n",
    "        array = np.hstack([horizontal_fill, array])\n",
    "    elif bounds.right - point_obj.x < buffer_distance:\n",
    "        array = np.hstack([array, horizontal_fill])\n",
    "\n",
    "    if point_obj.y - bounds.bottom < buffer_distance:\n",
    "        array = np.vstack([array, vertical_fill])\n",
    "    elif bounds.top - point_obj.y < buffer_distance:\n",
    "        array = np.vstack([vertical_fill, array])\n",
    "\n",
    "    return array"
   ]
  },
  {
   "cell_type": "markdown",
   "metadata": {},
   "source": [
    "Load the heights raster as a numpy array <br>\n",
    "using on the window created by the function in the previous cell, <br>\n",
    "and defining the affine transform."
   ]
  },
  {
   "cell_type": "code",
   "execution_count": null,
   "metadata": {},
   "outputs": [],
   "source": [
    "# Read Elevation Raster Data\n",
    "elevation_raster_path = 'material/elevation/SZ.asc'\n",
    "elevation_raster = rasterio.open(elevation_raster_path)\n",
    "resolution = elevation_raster.transform[0]\n",
    "\n",
    "elevation_raster_box = box(*list(elevation_raster.bounds))\n",
    "distance_from_bounds = elevation_raster_box.exterior.distance(point_obj)\n",
    "\n",
    "window_elevation = create_window(point, elevation_raster, buffer_distance)\n",
    "heights_array = elevation_raster.read(1, window=window_elevation)\n",
    "heights_array = fill_array(elevation_raster, heights_array,\n",
    "                           point_obj, resolution, buffer_distance)\n",
    "\n",
    "# elevation_raster.transform[0] is the resolution in meters\n",
    "# it's more generic way, better than hard coding the raster resolution\n",
    "number_of_columns = (east_bound-west_bound)/elevation_raster.transform[0]\n",
    "number_of_rows = (north_bound-south_bound)/elevation_raster.transform[0]\n",
    "heights_affine_for_window = from_bounds(west_bound, south_bound,\n",
    "                                        east_bound, north_bound,\n",
    "                                        number_of_columns,\n",
    "                                        number_of_rows)"
   ]
  },
  {
   "cell_type": "markdown",
   "metadata": {},
   "source": [
    "Load the island raster and applying the embedded colormap"
   ]
  },
  {
   "cell_type": "code",
   "execution_count": null,
   "metadata": {},
   "outputs": [],
   "source": [
    "# Read Island Raster Data\n",
    "island_raster_path = 'material/os50k/raster-50k_2724246.tif'\n",
    "island_raster = rasterio.open(island_raster_path)\n",
    "\n",
    "window_island = create_window(point, island_raster, buffer_distance)\n",
    "island_raster_array = island_raster.read(1, window=window_island)\n",
    "island_raster_array = fill_array(island_raster, island_raster_array,\n",
    "                                 point_obj, resolution, buffer_distance)\n",
    "\n",
    "palette = np.array([value for key, value in island_raster.colormap(1).items()])\n",
    "island_raster_image = palette[island_raster_array.astype(int)]\n"
   ]
  },
  {
   "cell_type": "markdown",
   "metadata": {},
   "source": [
    "Creating a rasterized version of the point buffer to clip the heights array based on it. "
   ]
  },
  {
   "cell_type": "code",
   "execution_count": null,
   "metadata": {},
   "outputs": [],
   "source": [
    "clear_output()\n",
    "display(HTML('<h3><span style=\"color:blue\"> Performing calculations ...\\\n",
    "              </span></h3>'))\n",
    "# Point Buffer\n",
    "point_buffer = point_obj.buffer(buffer_distance)\n",
    "\n",
    "# Rasterize Buffer\n",
    "number_of_columns = int((east_bound-west_bound) / resolution)\n",
    "number_of_rows = int((north_bound-south_bound) / resolution)\n",
    "array_shape = (number_of_rows, number_of_columns)\n",
    "affine_transform = from_bounds(west_bound, south_bound,\n",
    "                               east_bound, north_bound,\n",
    "                               number_of_columns, number_of_rows)\n",
    "point_buffer_mask = features.rasterize([(point_buffer, 1)],\n",
    "                                       out_shape=array_shape,\n",
    "                                       transform=affine_transform)\n",
    "point_buffer_mask = ~point_buffer_mask.astype(bool)\n",
    "\n",
    "# Clip Heights with point buffer\n",
    "heights_array_clipped = heights_array.copy()\n",
    "heights_array_clipped[point_buffer_mask] = np.nan"
   ]
  },
  {
   "cell_type": "markdown",
   "metadata": {},
   "source": [
    "Get the coordinates of the highest point within the buffer area."
   ]
  },
  {
   "cell_type": "code",
   "execution_count": null,
   "metadata": {},
   "outputs": [],
   "source": [
    "# Get Highest Point\n",
    "row, col = np.unravel_index(np.nanargmax(heights_array_clipped),\n",
    "                            heights_array_clipped.shape)\n",
    "x_highest, y_highest = xy(affine_transform, row, col)\n",
    "highest_point = (x_highest, y_highest)"
   ]
  },
  {
   "cell_type": "markdown",
   "metadata": {},
   "source": [
    "Creating R tree index of all nodes within the buffer area, <br> to find out the closest node to the starting point and the highest point. <br>\n",
    "Also checking if there are no transportation nodes <br>\n",
    "within 5km radius of the entered point.  \n"
   ]
  },
  {
   "cell_type": "code",
   "execution_count": null,
   "metadata": {},
   "outputs": [],
   "source": [
    "# Create R tree index and find nearest point\n",
    "idx = index.Index()\n",
    "for i, (fid, coords) in enumerate(road_nodes.items()):\n",
    "    (x, y) = coords['coords']\n",
    "    node_as_point = Point(x, y)\n",
    "    if not point_buffer.contains(node_as_point):\n",
    "        continue\n",
    "    idx.insert(i, (x, y), fid)\n",
    "\n",
    "try:\n",
    "    nearest_origin_point_fid = list(idx.nearest(point, num_results=1,\n",
    "                                                objects=True))[0].object\n",
    "except IndexError as e:\n",
    "    clear_output()\n",
    "    display(HTML(\"<h1><center> It seems that there are no transportation nodes\\\n",
    "                  near you </center></h1>\"))\n",
    "    display(HTML(\"<h1><center> Please, relocate and refresh the page \\\n",
    "                  </center></h1>\"))\n",
    "    start_point = (\"<h2><center>\" + \"The point you entered is at \" +\n",
    "                   str(int(point[0])) + \", \" + str(int(point[1])) +\n",
    "                   \"</center></h2>\")\n",
    "    display(HTML(start_point))\n",
    "    while True:\n",
    "        pass\n",
    "\n",
    "nearest_target_point_fid = list(idx.nearest(highest_point,\n",
    "                                num_results=1, objects=True))[0].object\n",
    "nearest_target_coords = road_nodes[nearest_target_point_fid]['coords']\n",
    "nearest_origin_coords = road_nodes[nearest_origin_point_fid]['coords']"
   ]
  },
  {
   "cell_type": "markdown",
   "metadata": {},
   "source": [
    "Defining a function to implement the naismith's rule, which calcualtes the additional time in minutes for each road link"
   ]
  },
  {
   "cell_type": "code",
   "execution_count": null,
   "metadata": {},
   "outputs": [],
   "source": [
    "def calcualte_additional_time(coords, heights_array, affine_transform):\n",
    "    total_climb = 0\n",
    "    for i, point in enumerate(coords):\n",
    "        x, y = point\n",
    "        if i == 0:\n",
    "            last_height = heights_array[rowcol(affine_transform, x, y)]\n",
    "        else:\n",
    "            height = heights_array[rowcol(affine_transform, x, y)]\n",
    "            if height > last_height:\n",
    "                total_climb += height-last_height\n",
    "\n",
    "            last_height = height\n",
    "    additional_time = total_climb/10\n",
    "    return additional_time  # in minutes"
   ]
  },
  {
   "cell_type": "markdown",
   "metadata": {},
   "source": [
    "A function to check if a link is inside a polygon, will be used to make sure that all link points lies within the buffer area."
   ]
  },
  {
   "cell_type": "code",
   "execution_count": null,
   "metadata": {},
   "outputs": [],
   "source": [
    "def is_link_inside_polygon(coords, polygon):\n",
    "    inside = True\n",
    "    for x_y in coords:\n",
    "        point_obj = Point(x_y)\n",
    "        if not polygon.contains(point_obj):\n",
    "            inside = False\n",
    "            break\n",
    "    return inside"
   ]
  },
  {
   "cell_type": "markdown",
   "metadata": {},
   "source": [
    "Create the network of edges connecting the nodes, and calculating the time required to go through each edge both ways. "
   ]
  },
  {
   "cell_type": "code",
   "execution_count": null,
   "metadata": {},
   "outputs": [],
   "source": [
    "# Create the network\n",
    "walking_speed = 5\n",
    "km_to_meters = 1000\n",
    "hour_to_minutes = 60\n",
    "G = nx.DiGraph()\n",
    "for link in road_links:\n",
    "    length = road_links[link]['length']\n",
    "    coords = road_links[link]['coords']\n",
    "\n",
    "    if not is_link_inside_polygon(coords, point_buffer):\n",
    "        continue\n",
    "\n",
    "    base_time = length/(walking_speed * km_to_meters) * hour_to_minutes\n",
    "\n",
    "    # Forward\n",
    "    additional_time = calcualte_additional_time(coords, heights_array,\n",
    "                                                heights_affine_for_window)\n",
    "    total_time = base_time+additional_time\n",
    "    G.add_edge(road_links[link]['start'],\n",
    "               road_links[link]['end'],\n",
    "               fid=link,\n",
    "               length=road_links[link]['length'],\n",
    "               time=total_time)\n",
    "\n",
    "    # Backward\n",
    "    additional_time = calcualte_additional_time(reversed(coords),\n",
    "                                                heights_array,\n",
    "                                                heights_affine_for_window)\n",
    "    total_time = base_time+additional_time\n",
    "    G.add_edge(road_links[link]['end'],\n",
    "               road_links[link]['start'],\n",
    "               fid=link,\n",
    "               length=road_links[link]['length'],\n",
    "               time=total_time)"
   ]
  },
  {
   "cell_type": "markdown",
   "metadata": {},
   "source": [
    "A function to convert the shortest path to a GeoDataFrame for plotting purposes"
   ]
  },
  {
   "cell_type": "code",
   "execution_count": null,
   "metadata": {},
   "outputs": [],
   "source": [
    "def path_to_gpd(path, G, road_links):\n",
    "    links = []\n",
    "    geom = []\n",
    "    for n, each in enumerate(path):\n",
    "        if n==0:\n",
    "            pass\n",
    "        else:\n",
    "            link = G.edges[last, each]['fid']\n",
    "            links.append(link)\n",
    "            geom.append(LineString(road_links[link]['coords']))\n",
    "        last = each\n",
    "\n",
    "    path_gpd = gpd.GeoDataFrame({'fid': links, 'geometry': geom})\n",
    "    return path_gpd"
   ]
  },
  {
   "cell_type": "markdown",
   "metadata": {},
   "source": [
    "Finding the shortest path based on the time, and converting the path to a GeoDataFrame for plotting."
   ]
  },
  {
   "cell_type": "code",
   "execution_count": null,
   "metadata": {},
   "outputs": [],
   "source": [
    "# Find Shortest Path and convert it to GeoDataFrame\n",
    "try:\n",
    "    shortest_path = nx.dijkstra_path(G,\n",
    "                                     source=nearest_origin_point_fid,\n",
    "                                     target=nearest_target_point_fid,\n",
    "                                     weight='time')\n",
    "except nx.NetworkXNoPath:\n",
    "    clear_output()\n",
    "    display(HTML(\"<h1><center> It seems that the only way is outside\\\n",
    "                  the 5 Km radius</center></h1>\"))\n",
    "    display(HTML(\"<h1><center> Please, relocate and refresh the page \\\n",
    "                  </center></h1>\"))\n",
    "    start_point = (\"<h2><center>\" + \"The point you entered is at \" +\n",
    "                   str(int(point[0])) + \", \" + str(int(point[1])) +\n",
    "                   \"</center></h2>\")\n",
    "    display(HTML(start_point))\n",
    "    while True:\n",
    "        pass\n",
    "shortest_path_gdf = path_to_gpd(shortest_path, G, road_links)"
   ]
  },
  {
   "cell_type": "markdown",
   "metadata": {},
   "source": [
    "Adding the (off-road) lines which represent at the begining the route from the starting poitn to the first node in the network and from the last node in the network to the highest point. <br> <br>\n",
    "**Creativity point:** handling a special case of the path including only one point (i.e) if the start and the end point are very close to each other that the network would only include a single node represting both the first and the last node. "
   ]
  },
  {
   "cell_type": "code",
   "execution_count": null,
   "metadata": {},
   "outputs": [],
   "source": [
    "# Adding off road lines\n",
    "if not shortest_path_gdf.empty:\n",
    "    start_node_coords = shortest_path_gdf.iloc[0].geometry.coords[0]\n",
    "    end_node_coords = shortest_path_gdf.iloc[-1].geometry.coords[-1]\n",
    "    start_line_obj = LineString([point, start_node_coords])\n",
    "    end_line_obj = LineString([end_node_coords, highest_point])\n",
    "    off_road_route = gpd.GeoDataFrame({'fid': ['starting_line', 'ending_line'],\n",
    "                                       'geometry': [start_line_obj,\n",
    "                                                    end_line_obj]})\n",
    "else:\n",
    "    direct_line_obj = LineString([point, highest_point])\n",
    "    off_road_route = gpd.GeoDataFrame({'fid': ['direct_line'],\n",
    "                                       'geometry': [direct_line_obj]})    "
   ]
  },
  {
   "cell_type": "markdown",
   "metadata": {},
   "source": [
    "Defining the extents required for all rasters to be ploted"
   ]
  },
  {
   "cell_type": "code",
   "execution_count": null,
   "metadata": {},
   "outputs": [],
   "source": [
    "# Defining all needed extents\n",
    "display_extents = (west_bound, east_bound, south_bound, north_bound)\n",
    "display(HTML(f'<h3>{display_extents}</h3>'))\n",
    "legend_extents = (west_bound+50, west_bound+721*3+50,\n",
    "                  south_bound+50, south_bound+621*3+50)\n",
    "geotag_extents = (point[0]-177, point[0]+177,\n",
    "                  point[1], point[1]+512)\n",
    "\n",
    "geotag_destination_extents = (highest_point[0]-177, highest_point[0]+177,\n",
    "                              highest_point[1], highest_point[1]+512)\n",
    "\n",
    "\n",
    "# Plotting\n",
    "clear_output()\n",
    "display(HTML('<h3><span style=\"color:blue\"> Exporting graphics ... \\\n",
    "              </span></h3>'))\n",
    "fig = plt.figure(figsize=(3, 3), dpi=300)\n",
    "\n",
    "ax = fig.add_subplot(1, 1, 1, projection=ccrs.OSGB())\n",
    "\n",
    "ax.imshow(island_raster_image,\n",
    "          origin='upper',\n",
    "          extent=display_extents,\n",
    "          transform=ccrs.OSGB(),\n",
    "          zorder=0)\n",
    "\n",
    "ax.imshow(heights_array_clipped,\n",
    "          origin='upper',\n",
    "          alpha=0.35,\n",
    "          cmap=cm.jet,\n",
    "          extent=display_extents,\n",
    "          transform=ccrs.OSGB(),\n",
    "          zorder=1)\n",
    "\n",
    "ax.imshow(legend_img,\n",
    "          origin='upper',\n",
    "          extent=legend_extents,\n",
    "          transform=ccrs.OSGB(),\n",
    "          zorder=10)\n",
    "\n",
    "ax.imshow(geotag_img,\n",
    "          origin='upper',\n",
    "          extent=geotag_extents,\n",
    "          transform=ccrs.OSGB(),\n",
    "          zorder=7)\n",
    "\n",
    "ax.imshow(geotag_destination_img,\n",
    "          origin='upper',\n",
    "          extent=geotag_destination_extents,\n",
    "          transform=ccrs.OSGB(),\n",
    "          zorder=7)\n",
    "\n",
    "shortest_path_gdf.plot(ax=ax,\n",
    "                       edgecolor='black',\n",
    "                       linewidth=0.7,\n",
    "                       linestyle='dashed',\n",
    "                       transform=ccrs.OSGB(),\n",
    "                       zorder=6)\n",
    "\n",
    "off_road_route.plot(ax=ax,\n",
    "                    edgecolor='black',\n",
    "                    linewidth=0.7,\n",
    "                    linestyle='dashed',\n",
    "                    transform=ccrs.OSGB(),\n",
    "                    zorder=6)\n",
    "\n",
    "\n",
    "ax.set_extent(display_extents, crs=ccrs.OSGB())\n",
    "clear_output()\n",
    "start_point = (\"<h2><center>\" + \"The point you entered is at \" +\n",
    "               str(int(point[0])) + \", \" + str(int(point[1])) +\n",
    "               \"</center></h2>\")\n",
    "end_point = (\"<h2><center>\" + \"Your destination is at \" +\n",
    "             str(int(highest_point[0])) + \", \" + str(int(highest_point[1])) +\n",
    "             \"</center></h2>\")\n",
    "display(HTML(start_point))\n",
    "display(HTML(end_point))\n",
    "plt.show()\n"
   ]
  },
  {
   "cell_type": "markdown",
   "metadata": {},
   "source": [
    "**BS** The program includes several small improvments like <br> the display of loading messages and markdown the displayed text.<br>  "
   ]
  },
  {
   "cell_type": "markdown",
   "metadata": {},
   "source": []
  },
  {
   "cell_type": "markdown",
   "metadata": {},
   "source": [
    "## "
   ]
  }
 ],
 "metadata": {
  "kernelspec": {
   "display_name": "Python 3",
   "language": "python",
   "name": "python3"
  },
  "language_info": {
   "codemirror_mode": {
    "name": "ipython",
    "version": 3
   },
   "file_extension": ".py",
   "mimetype": "text/x-python",
   "name": "python",
   "nbconvert_exporter": "python",
   "pygments_lexer": "ipython3",
   "version": "3.7.4"
  }
 },
 "nbformat": 4,
 "nbformat_minor": 2
}
